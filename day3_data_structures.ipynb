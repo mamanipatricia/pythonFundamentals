{
  "nbformat": 4,
  "nbformat_minor": 0,
  "metadata": {
    "colab": {
      "name": "day3-data-structures",
      "provenance": [],
      "include_colab_link": true
    },
    "kernelspec": {
      "name": "python3",
      "display_name": "Python 3"
    }
  },
  "cells": [
    {
      "cell_type": "markdown",
      "metadata": {
        "id": "view-in-github",
        "colab_type": "text"
      },
      "source": [
        "<a href=\"https://colab.research.google.com/github/mamanipatricia/pythonFundamentals/blob/master/day3_data_structures.ipynb\" target=\"_parent\"><img src=\"https://colab.research.google.com/assets/colab-badge.svg\" alt=\"Open In Colab\"/></a>"
      ]
    },
    {
      "cell_type": "markdown",
      "metadata": {
        "id": "n5GxMjrfGHN0",
        "colab_type": "text"
      },
      "source": [
        "### ESTRUCTURAS DE DATOS\n",
        "1. Lista \n",
        "2. Tupla\n",
        "3. Set\n",
        "4. Diccionario\n",
        "\n",
        "**Mutable** = puede cambiar su contenido sin cambiar su identidad.\n",
        "\n",
        "**Inmutable** = el valor no se puede actualizar"
      ]
    },
    {
      "cell_type": "markdown",
      "metadata": {
        "id": "qVdwu5Yto8Ik",
        "colab_type": "text"
      },
      "source": [
        "#### Ejemplos en: `int, str, bool, list, tuple, set y diccionarios`   \n"
      ]
    },
    {
      "cell_type": "code",
      "metadata": {
        "id": "yIubq1IKVHvJ",
        "colab_type": "code",
        "colab": {
          "base_uri": "https://localhost:8080/",
          "height": 85
        },
        "outputId": "d0e55a49-0fce-4b5c-a017-4752d1d0197f"
      },
      "source": [
        "# Integers = Inmutables\n",
        "# cambia los ids\n",
        "\n",
        "number = 10\n",
        "print('number: ', number)\n",
        "print('id: ', id(number))\n",
        "\n",
        "number += 10\n",
        "print('number: ', number)\n",
        "print('id: ', id(number))"
      ],
      "execution_count": null,
      "outputs": [
        {
          "output_type": "stream",
          "text": [
            "number:  10\n",
            "id:  10914784\n",
            "number:  20\n",
            "id:  10915104\n"
          ],
          "name": "stdout"
        }
      ]
    },
    {
      "cell_type": "code",
      "metadata": {
        "id": "GuyzdzcOauwP",
        "colab_type": "code",
        "colab": {
          "base_uri": "https://localhost:8080/",
          "height": 85
        },
        "outputId": "069cb123-0008-45ec-b4e8-09b0a545501f"
      },
      "source": [
        "# Strings = Inmutables\n",
        "# ids diferentes\n",
        "\n",
        "day = 'Domingo'\n",
        "print('day: ', day)\n",
        "print('id: ', id(day))\n",
        "\n",
        "# day[0] = 'd' # error!\n",
        "# print('day: ', day)\n",
        "\n",
        "# para actualizar un string x, hay que crear uno nuevo\n",
        "day = 'domingo'\n",
        "print(day)\n",
        "print('id: ', id(day))\n",
        "\n",
        "# print(day[0])"
      ],
      "execution_count": null,
      "outputs": [
        {
          "output_type": "stream",
          "text": [
            "day:  Domingo\n",
            "id:  139679775925840\n",
            "domingo\n",
            "id:  139679775925784\n"
          ],
          "name": "stdout"
        }
      ]
    },
    {
      "cell_type": "code",
      "metadata": {
        "id": "edjQeGMcbRHk",
        "colab_type": "code",
        "colab": {
          "base_uri": "https://localhost:8080/",
          "height": 85
        },
        "outputId": "faf44686-b715-42ab-a9ee-21edb0f747d2"
      },
      "source": [
        "# bool = inmutables\n",
        "# ids diferentes\n",
        "\n",
        "is_weekend = True\n",
        "print('is_weekend: ', is_weekend)\n",
        "print('id: ', id(is_weekend))\n",
        "\n",
        "is_weekend = not True\n",
        "print('id: ', id(is_weekend))\n",
        "print('is_weekend: ', is_weekend)"
      ],
      "execution_count": null,
      "outputs": [
        {
          "output_type": "stream",
          "text": [
            "is_weekend:  True\n",
            "id:  10302848\n",
            "id:  10300256\n",
            "is_weekend:  False\n"
          ],
          "name": "stdout"
        }
      ]
    },
    {
      "cell_type": "code",
      "metadata": {
        "id": "b8NNoimzVahZ",
        "colab_type": "code",
        "colab": {
          "base_uri": "https://localhost:8080/",
          "height": 85
        },
        "outputId": "920923d9-0c78-4c89-bb30-98bd6050347b"
      },
      "source": [
        "# listas = mutables\n",
        "# ids iguales\n",
        "countries = ['Bolivia', 'Brasil', 'Panama']\n",
        "print('countries: ', countries)\n",
        "print('id: ', id(countries))\n",
        "\n",
        "# adicionando un elemento\n",
        "countries.append('Chile')\n",
        "\n",
        "countries[1] = 'Argentina'\n",
        "print('countries: ', countries)\n",
        "print('id: ', id(countries))"
      ],
      "execution_count": null,
      "outputs": [
        {
          "output_type": "stream",
          "text": [
            "countries:  ['Bolivia', 'Brasil', 'Panama']\n",
            "id:  139679775866568\n",
            "countries:  ['Bolivia', 'Argentina', 'Panama', 'Chile']\n",
            "id:  139679775866568\n"
          ],
          "name": "stdout"
        }
      ]
    },
    {
      "cell_type": "code",
      "metadata": {
        "id": "t6bEjF0gttYY",
        "colab_type": "code",
        "colab": {
          "base_uri": "https://localhost:8080/",
          "height": 85
        },
        "outputId": "507e0655-5800-45f5-a787-a0d401c0c1a4"
      },
      "source": [
        "# tuplas = Inmutables\n",
        "# ids diferentes\n",
        "\n",
        "grades_tuple = (77, 88, 99, 100, 299, 445) \n",
        "print('grades_tuple: ', grades_tuple)\n",
        "print('id: ', id(grades_tuple))\n",
        "\n",
        "# TUPLES - para agregar un elemento siempre adicionar una coma al final\n",
        "grades_tuple = grades_tuple + (999, ) # solo adiciona al final\n",
        "# grades_tuple = (800, )\n",
        "print(\"grades_tuple: \", grades_tuple)\n",
        "print('id: ', id(grades_tuple))"
      ],
      "execution_count": null,
      "outputs": [
        {
          "output_type": "stream",
          "text": [
            "grades_tuple:  (77, 88, 99, 100, 299, 445)\n",
            "id:  139679776403624\n",
            "grades_tuple:  (77, 88, 99, 100, 299, 445, 999)\n",
            "id:  139679775644744\n"
          ],
          "name": "stdout"
        }
      ]
    },
    {
      "cell_type": "code",
      "metadata": {
        "id": "jLgPUCSm0KKp",
        "colab_type": "code",
        "colab": {
          "base_uri": "https://localhost:8080/",
          "height": 85
        },
        "outputId": "cdaa1dd2-23a6-4614-8ff4-a749c9648fa4"
      },
      "source": [
        "# Sets = mutable\n",
        "# ids iguales\n",
        "\n",
        "# SET - unicos y desordenados\n",
        "grades_set = {77, 43, 23, 64, 64} # elimina 64\n",
        "print('grades_set: ', grades_set)\n",
        "print('id: ', id(grades_set))\n",
        "\n",
        "# SET - adiciona el elemento\n",
        "grades_set.add(54)\n",
        "# set_grades[0] = 60 # no acepta adicionar! pero con add si!\n",
        "\n",
        "print('grades_set: ', grades_set)\n",
        "print('id: ', id(grades_set))\n"
      ],
      "execution_count": null,
      "outputs": [
        {
          "output_type": "stream",
          "text": [
            "grades_set:  {64, 43, 77, 23}\n",
            "id:  139679785998376\n",
            "grades_set:  {64, 43, 77, 54, 23}\n",
            "id:  139679785998376\n"
          ],
          "name": "stdout"
        }
      ]
    },
    {
      "cell_type": "code",
      "metadata": {
        "id": "IIhDKmmi19so",
        "colab_type": "code",
        "colab": {
          "base_uri": "https://localhost:8080/",
          "height": 85
        },
        "outputId": "2a8358d8-e965-48b9-b2bc-339a52981860"
      },
      "source": [
        "# Diccionarios = mutables\n",
        "# ids iguales\n",
        "\n",
        "student = {'name': 'Jose', 'age': 23, 'grades': [13, 45, 53, 6]}\n",
        "print('student: ', student)\n",
        "print('id: ', id(student))\n",
        "\n",
        "# DICT - adiciona un elemento \n",
        "student['DNI'] = 123456\n",
        "\n",
        "student['name'] = 'Maria' # actualizando un elemento\n",
        "\n",
        "print('student: ', student)\n",
        "print('id: ', id(student))\n"
      ],
      "execution_count": null,
      "outputs": [
        {
          "output_type": "stream",
          "text": [
            "student:  {'name': 'Jose', 'age': 23, 'grades': [13, 45, 53, 6]}\n",
            "id:  139679775718064\n",
            "student:  {'name': 'Maria', 'age': 23, 'grades': [13, 45, 53, 6], 'DNI': 123456}\n",
            "id:  139679775718064\n"
          ],
          "name": "stdout"
        }
      ]
    },
    {
      "cell_type": "markdown",
      "metadata": {
        "id": "G72w774-7NwE",
        "colab_type": "text"
      },
      "source": [
        "## EJERCICIOS"
      ]
    },
    {
      "cell_type": "markdown",
      "metadata": {
        "id": "oXIQMiQZlCQK",
        "colab_type": "text"
      },
      "source": [
        "## Listas\n",
        "```python\n",
        "lista = ['Elemento 1', 'Elemento 2', ...]\n",
        "```\n",
        "METODOS\n",
        "```python\n",
        "list.append(x)\n",
        "list.extend()\n",
        "list.insert(i, x)\n",
        "list.remove(x)\n",
        "list.pop([i])\n",
        "list.clear()\n",
        "list.count(x)\n",
        "list.sort(key=None, reverse=False)\n",
        "list.reverse()\n",
        "list.copy()\n",
        "```"
      ]
    },
    {
      "cell_type": "code",
      "metadata": {
        "id": "XuOzI6tenuVF",
        "colab_type": "code",
        "colab": {
          "base_uri": "https://localhost:8080/",
          "height": 170
        },
        "outputId": "3633d19c-1b15-4290-f74e-0bc8614dabb3"
      },
      "source": [
        "# declaracion de una lista\n",
        "paises = ['Brasil',\n",
        "          'Perú',\n",
        "          'Chile',\n",
        "          'Colombia',\n",
        "          'Argentina',\n",
        "          'Ecuador',\n",
        "          'Bolivia',\n",
        "          'Venezuela',\n",
        "          'Guayana Francesa',\n",
        "          'Paraguay'\n",
        "          ]\n",
        "                        \n",
        "# Imprimiendo toda la lista\n",
        "print(type(paises))\n",
        "print(paises)\n",
        "paises\n",
        "\n",
        "print('--- formas de obtener elementos de una lista ---')\n",
        "print(paises[:])\n",
        "print(paises[3])\n",
        "print(paises[0:3])\n",
        "print(paises[:2])\n",
        "print(paises[2:])\n",
        "print(paises[::2])"
      ],
      "execution_count": 171,
      "outputs": [
        {
          "output_type": "stream",
          "text": [
            "<class 'list'>\n",
            "['Brasil', 'Perú', 'Chile', 'Colombia', 'Argentina', 'Ecuador', 'Bolivia', 'Venezuela', 'Guayana Francesa', 'Paraguay']\n",
            "--- formas de obtener elementos de una lista ---\n",
            "['Brasil', 'Perú', 'Chile', 'Colombia', 'Argentina', 'Ecuador', 'Bolivia', 'Venezuela', 'Guayana Francesa', 'Paraguay']\n",
            "Colombia\n",
            "['Brasil', 'Perú', 'Chile']\n",
            "['Brasil', 'Perú']\n",
            "['Chile', 'Colombia', 'Argentina', 'Ecuador', 'Bolivia', 'Venezuela', 'Guayana Francesa', 'Paraguay']\n",
            "['Brasil', 'Chile', 'Argentina', 'Bolivia', 'Guayana Francesa']\n"
          ],
          "name": "stdout"
        }
      ]
    },
    {
      "cell_type": "code",
      "metadata": {
        "id": "nKIjm3aPr-Hg",
        "colab_type": "code",
        "colab": {
          "base_uri": "https://localhost:8080/",
          "height": 241
        },
        "outputId": "0d68ff56-30d0-4e6f-9e8d-d7d46d294976"
      },
      "source": [
        "# Metodos en Listas\n",
        "\n",
        "paises = ['Brasil',\n",
        "          'Perú',\n",
        "          'Chile',\n",
        "          'Colombia',\n",
        "          'Argentina',\n",
        "          'Ecuador',\n",
        "          'Bolivia',\n",
        "          'Venezuela',\n",
        "          'Guayana Francesa',\n",
        "          'Paraguay'\n",
        "          ]\n",
        "\n",
        "# append, adiciona un elemento al final de una lista.\n",
        "paises.append('Costa Rica')\n",
        "print('Paises - append: ', paises)\n",
        "\n",
        "# insert, agrega un elemento el la posicion x de la lista\n",
        "paises.insert(3, 'Bolivia') \n",
        "print('Paises - insert: ', paises)\n",
        "\n",
        "# extend, concatena una nueva lista a la lista previamente creada\n",
        "paises.extend(['Canada', 'EEUU', 'Mexico'])\n",
        "print('Paises - extend: ', paises)\n",
        "\n",
        "# index, saber el indice donde se encuentra el valor\n",
        "paises.index('Bolivia')\n",
        "print('Paises - index: ', paises)\n",
        "\n",
        "# remove, elimina un elemento de la lista:\n",
        "paises.remove('EEUU')\n",
        "print('Paises - remove: ', paises)\n",
        "\n",
        "# pop, remover el ultimo elemento de la lista\n",
        "paises.pop()\n",
        "print('Paises - pop: ', paises)\n",
        "\n",
        "# sort, ordenar una lista\n",
        "paises.sort()\n",
        "print('Paises - sort: ', paises)\n",
        "\n",
        "# reverse, invertir una lista\n",
        "paises.reverse()\n",
        "print('Paises - reverse: ', paises)\n",
        "\n",
        "# Multiplicar la lista X veces\n",
        "print('Paises - * X: ', paises[:] * 3)\n",
        "\n",
        "# count, verifica la cantidad de veces que hay un elemento en una lista\n",
        "print('Paises - count: ', paises.count('Bolivia'))\n",
        "\n",
        "# copy\n",
        "copia_paises = paises.copy()\n",
        "\n",
        "# clear, elimina una lista\n",
        "paises.clear()\n",
        "print('Paises - clear: ', paises)\n",
        "\n",
        "# elementos unicos\n",
        "print('paises - copia: ', set(copia_paises))"
      ],
      "execution_count": 173,
      "outputs": [
        {
          "output_type": "stream",
          "text": [
            "Paises - append:  ['Brasil', 'Perú', 'Chile', 'Colombia', 'Argentina', 'Ecuador', 'Bolivia', 'Venezuela', 'Guayana Francesa', 'Paraguay', 'Costa Rica']\n",
            "Paises - insert:  ['Brasil', 'Perú', 'Chile', 'Bolivia', 'Colombia', 'Argentina', 'Ecuador', 'Bolivia', 'Venezuela', 'Guayana Francesa', 'Paraguay', 'Costa Rica']\n",
            "Paises - extend:  ['Brasil', 'Perú', 'Chile', 'Bolivia', 'Colombia', 'Argentina', 'Ecuador', 'Bolivia', 'Venezuela', 'Guayana Francesa', 'Paraguay', 'Costa Rica', 'Canada', 'EEUU', 'Mexico']\n",
            "Paises - index:  ['Brasil', 'Perú', 'Chile', 'Bolivia', 'Colombia', 'Argentina', 'Ecuador', 'Bolivia', 'Venezuela', 'Guayana Francesa', 'Paraguay', 'Costa Rica', 'Canada', 'EEUU', 'Mexico']\n",
            "Paises - remove:  ['Brasil', 'Perú', 'Chile', 'Bolivia', 'Colombia', 'Argentina', 'Ecuador', 'Bolivia', 'Venezuela', 'Guayana Francesa', 'Paraguay', 'Costa Rica', 'Canada', 'Mexico']\n",
            "Paises - pop:  ['Brasil', 'Perú', 'Chile', 'Bolivia', 'Colombia', 'Argentina', 'Ecuador', 'Bolivia', 'Venezuela', 'Guayana Francesa', 'Paraguay', 'Costa Rica', 'Canada']\n",
            "Paises - sort:  ['Argentina', 'Bolivia', 'Bolivia', 'Brasil', 'Canada', 'Chile', 'Colombia', 'Costa Rica', 'Ecuador', 'Guayana Francesa', 'Paraguay', 'Perú', 'Venezuela']\n",
            "Paises - reverse:  ['Venezuela', 'Perú', 'Paraguay', 'Guayana Francesa', 'Ecuador', 'Costa Rica', 'Colombia', 'Chile', 'Canada', 'Brasil', 'Bolivia', 'Bolivia', 'Argentina']\n",
            "Paises - * X:  ['Venezuela', 'Perú', 'Paraguay', 'Guayana Francesa', 'Ecuador', 'Costa Rica', 'Colombia', 'Chile', 'Canada', 'Brasil', 'Bolivia', 'Bolivia', 'Argentina', 'Venezuela', 'Perú', 'Paraguay', 'Guayana Francesa', 'Ecuador', 'Costa Rica', 'Colombia', 'Chile', 'Canada', 'Brasil', 'Bolivia', 'Bolivia', 'Argentina', 'Venezuela', 'Perú', 'Paraguay', 'Guayana Francesa', 'Ecuador', 'Costa Rica', 'Colombia', 'Chile', 'Canada', 'Brasil', 'Bolivia', 'Bolivia', 'Argentina']\n",
            "Paises - count:  2\n",
            "Paises - clear:  []\n",
            "paises - copia:  {'Perú', 'Guayana Francesa', 'Paraguay', 'Costa Rica', 'Colombia', 'Canada', 'Brasil', 'Chile', 'Venezuela', 'Ecuador', 'Argentina', 'Bolivia'}\n"
          ],
          "name": "stdout"
        }
      ]
    },
    {
      "cell_type": "markdown",
      "metadata": {
        "id": "XHwzo4q2fjAh",
        "colab_type": "text"
      },
      "source": [
        "## Tuplas\n",
        "\n",
        "definicion de una tupla\n",
        "```python\n",
        "lotery_number = ('elemento 1', 'elemento 2', ...)\n",
        "```\n",
        "\n"
      ]
    },
    {
      "cell_type": "code",
      "metadata": {
        "id": "0Wo0SWbIW9Ie",
        "colab_type": "code",
        "colab": {
          "base_uri": "https://localhost:8080/",
          "height": 34
        },
        "outputId": "44d8a21d-8173-49ed-a59b-4f885345f191"
      },
      "source": [
        "lotery_numbers = (12, 13, 14, 15, 16, 17, 18, 19, 20)\n",
        "type(lotery_numbers)"
      ],
      "execution_count": null,
      "outputs": [
        {
          "output_type": "execute_result",
          "data": {
            "text/plain": [
              "tuple"
            ]
          },
          "metadata": {
            "tags": []
          },
          "execution_count": 18
        }
      ]
    },
    {
      "cell_type": "code",
      "metadata": {
        "id": "8Z0FPArzW9OO",
        "colab_type": "code",
        "colab": {
          "base_uri": "https://localhost:8080/",
          "height": 34
        },
        "outputId": "d1987956-5993-4208-c918-c347addd3e49"
      },
      "source": [
        "# La tupla tiene diferentes tipos de datos\n",
        "# cadena = inmutable, lista = mutable\n",
        "# \n",
        "t = ('pyladies La Paz', [1, 2, 3])\n",
        "t\n",
        "type(t)"
      ],
      "execution_count": null,
      "outputs": [
        {
          "output_type": "execute_result",
          "data": {
            "text/plain": [
              "tuple"
            ]
          },
          "metadata": {
            "tags": []
          },
          "execution_count": 17
        }
      ]
    },
    {
      "cell_type": "code",
      "metadata": {
        "id": "rd5oeWL-KQ5H",
        "colab_type": "code",
        "colab": {}
      },
      "source": [
        ""
      ],
      "execution_count": null,
      "outputs": []
    },
    {
      "cell_type": "code",
      "metadata": {
        "id": "7-M6euGeW9M3",
        "colab_type": "code",
        "colab": {
          "base_uri": "https://localhost:8080/",
          "height": 34
        },
        "outputId": "44c05858-a59f-4f11-b4e3-8b11044bf823"
      },
      "source": [
        "s = {1,1,1,1}\n",
        "s"
      ],
      "execution_count": null,
      "outputs": [
        {
          "output_type": "execute_result",
          "data": {
            "text/plain": [
              "{1}"
            ]
          },
          "metadata": {
            "tags": []
          },
          "execution_count": 22
        }
      ]
    },
    {
      "cell_type": "code",
      "metadata": {
        "id": "d6TfYjcbW9Dm",
        "colab_type": "code",
        "colab": {}
      },
      "source": [
        ""
      ],
      "execution_count": null,
      "outputs": []
    },
    {
      "cell_type": "code",
      "metadata": {
        "id": "qtUnhqWPW86Z",
        "colab_type": "code",
        "colab": {}
      },
      "source": [
        "for key, value in sorted(released.items()):\n",
        "    print key, value\n",
        "\n",
        "\n",
        "\n",
        "def ():\n",
        "evens = []\n",
        "for number in numbers:\n",
        "    if number % 2 == 0:\n",
        "        evens.append(number)\n",
        "return evens\n",
        "\n",
        "\n",
        "\n",
        "\n",
        "cuadrado = []\n",
        "for x in range(10):\n",
        "    cuadrado.append(x**2)\n",
        "\n",
        "cuadrado"
      ],
      "execution_count": null,
      "outputs": []
    },
    {
      "cell_type": "markdown",
      "metadata": {
        "id": "uYmLBnYgW_A8",
        "colab_type": "text"
      },
      "source": [
        "En python todo se interpreta como objeto. Todos los objetos pueden clasificarse como **mutables** o **inmutables**.\n",
        "\n",
        "- **Mutables** se pueden cambiar los valores después de la creación.\n",
        "- **Inmutables** no se pueden cambiar los valores una vez creados.\n",
        "\n",
        "| Estructura de Datos | Mutable/Inmutable | caracteristicas | sintaxis |\n",
        "| -------- | -------- | -------| ------|\n",
        "| Lista     | Mutable | - Colección ordenada de elemento, Indexación, Separación mediante comas | `[]` |\n",
        "| Tupla | Inmutable | - Colección ordenada de elementos, No se puede cambiar los elementos, Indexación, Separación mediante comas| `()` |\n",
        "| Set | Mutable | - Colección desordenado de elementos, No se admite la indexación, No permite duplicados | `{}` | \n",
        "| Diccionario | Mutable | - Cada elemento se representa (clave: par de valores), Indexación, Separación mediante comas | `{key: value}` |\n",
        "\n",
        "\n",
        "\n",
        "\n",
        "\n"
      ]
    },
    {
      "cell_type": "code",
      "metadata": {
        "id": "A8GlGGYogsjr",
        "colab_type": "code",
        "colab": {}
      },
      "source": [
        ""
      ],
      "execution_count": null,
      "outputs": []
    },
    {
      "cell_type": "markdown",
      "metadata": {
        "id": "D_yOb3WgbewG",
        "colab_type": "text"
      },
      "source": [
        "| Clase | Mutable/inmutable |\n",
        "|---|---|\n",
        "| entero - `int` | inmutable |\n",
        "| booleano - `bool` | inmutable |\n",
        "| flotante - `float` | inmutable |\n",
        "| cadena - `str` | inmutable |\n",
        "| tupla - `tuple` | inmutable |\n",
        "| frozenset - `frozenset` | inmutable |\n",
        "| lista - `list` | mutable |\n",
        "| set - `set` | mutable |\n",
        "| diccionarios - `dict` | mutable |\n",
        "\n",
        "Diferencias entre `mutables` e `inmutables`\n",
        "\n",
        "**Inmutables**\n",
        "- Rapidos de acceder\n",
        "- Costosos en cambiar sus elementos - (implica crear una copia)\n",
        "\n",
        "**Mutables**\n",
        "- Excelentes cuando se necesita cambiar el tamaño del objeto\n",
        "- "
      ]
    },
    {
      "cell_type": "code",
      "metadata": {
        "id": "Pj_hJ2jzntMY",
        "colab_type": "code",
        "colab": {
          "base_uri": "https://localhost:8080/",
          "height": 479
        },
        "outputId": "84139e67-10c6-4f30-e2ea-0a3d541d339c"
      },
      "source": [
        "# lista de cadenas\n",
        "planetas = [\"Venus\", \"Tierra\", 'Marte', \"Jupiter\", \"Saturno\", \"Neptuno\"]\n",
        "print(planetas)\n",
        "\n",
        "# lista con multiple tipos de datos\n",
        "nombres_edad = [\"Juan\", 10, \"Maria\", 23, \"Carlos\", 24]\n",
        "print(nombres_edad)\n",
        "\n",
        "# listas dentro de listas\n",
        "nombres_notas = [\"Juan\", [50, 60, 30], \"Maria\", [100, 50, 89], \"Carlos\", [90, 89, 56]]\n",
        "print(nombres_notas)\n",
        "\n",
        "# longitud de una lista\n",
        "print(\"longitud de la lista planetas\", len(planetas))\n",
        "print(\"longitud de la lista nombres_edad\", len(nombres_edad))\n",
        "print(\"longitud de la lista nombres_notas\", len(nombres_notas))\n",
        "\n",
        "# Mostrar el primer elemento de una lista\n",
        "print(planetas[0])\n",
        "print(nombres_edad[0])\n",
        "print(nombres_notas[0])\n",
        "\n",
        "# mostrar en un rango\n",
        "print(planetas[1:3])\n",
        "print(planetas[0:7:2])\n",
        "print(planetas[0:len(planetas):2])\n",
        "\n",
        "# actualizar un elemento de la lista\n",
        "print(planetas)\n",
        "planetas[0] = \"Mercurio\"\n",
        "print(planetas)\n",
        "\n",
        "# agregar un elemento\n",
        "planetas.append(\"Venus\")\n",
        "print(planetas)\n",
        "planetas.append(\"Planeta X\")\n",
        "print(planetas)\n",
        "\n",
        "# insertar en una posición especifica\n",
        "planetas.insert(1, \"PLANETA NUEVO\")\n",
        "print(planetas)\n",
        "\n",
        "# Eliminar un elemento de la lista\n",
        "planetas.remove(\"Venus\")\n",
        "print(planetas)\n",
        "\n",
        "# eliminar un item de la lista en la posición x\n",
        "planetas.pop(1)\n",
        "print(planetas)\n",
        "\n",
        "# remover todos los elementos de la lista\n",
        "# planetas.clear()\n",
        "# print(planetas)\n",
        "\n",
        "# mostrar el indice de un elemento\n",
        "print(planetas.index(\"Marte\"))\n",
        "\n",
        "\n",
        "# mostrar cuantas veces aparece un elemento en la lista\n",
        "print(planetas)\n",
        "planetas.append(\"Marte\")\n",
        "print(planetas)\n",
        "print(planetas.count(\"Marte\"))\n",
        "\n",
        "# ordenar la lista\n",
        "planetas.sort()\n",
        "print(planetas)\n",
        "\n",
        "# invertir la lista\n",
        "planetas.reverse()\n",
        "print(planetas)\n",
        "\n",
        "nuevos_planetas = planetas.copy()\n",
        "print(nuevos_planetas)"
      ],
      "execution_count": null,
      "outputs": [
        {
          "output_type": "stream",
          "text": [
            "['Venus', 'Tierra', 'Marte', 'Jupiter', 'Saturno', 'Neptuno']\n",
            "['Juan', 10, 'Maria', 23, 'Carlos', 24]\n",
            "['Juan', [50, 60, 30], 'Maria', [100, 50, 89], 'Carlos', [90, 89, 56]]\n",
            "longitud de la lista planetas 6\n",
            "longitud de la lista nombres_edad 6\n",
            "longitud de la lista nombres_notas 6\n",
            "Venus\n",
            "Juan\n",
            "Juan\n",
            "['Tierra', 'Marte']\n",
            "['Venus', 'Marte', 'Saturno']\n",
            "['Venus', 'Marte', 'Saturno']\n",
            "['Venus', 'Tierra', 'Marte', 'Jupiter', 'Saturno', 'Neptuno']\n",
            "['Mercurio', 'Tierra', 'Marte', 'Jupiter', 'Saturno', 'Neptuno']\n",
            "['Mercurio', 'Tierra', 'Marte', 'Jupiter', 'Saturno', 'Neptuno', 'Venus']\n",
            "['Mercurio', 'Tierra', 'Marte', 'Jupiter', 'Saturno', 'Neptuno', 'Venus', 'Planeta X']\n",
            "['Mercurio', 'PLANETA NUEVO', 'Tierra', 'Marte', 'Jupiter', 'Saturno', 'Neptuno', 'Venus', 'Planeta X']\n",
            "['Mercurio', 'PLANETA NUEVO', 'Tierra', 'Marte', 'Jupiter', 'Saturno', 'Neptuno', 'Planeta X']\n",
            "['Mercurio', 'Tierra', 'Marte', 'Jupiter', 'Saturno', 'Neptuno', 'Planeta X']\n",
            "2\n",
            "['Mercurio', 'Tierra', 'Marte', 'Jupiter', 'Saturno', 'Neptuno', 'Planeta X']\n",
            "['Mercurio', 'Tierra', 'Marte', 'Jupiter', 'Saturno', 'Neptuno', 'Planeta X', 'Marte']\n",
            "2\n",
            "['Jupiter', 'Marte', 'Marte', 'Mercurio', 'Neptuno', 'Planeta X', 'Saturno', 'Tierra']\n",
            "['Tierra', 'Saturno', 'Planeta X', 'Neptuno', 'Mercurio', 'Marte', 'Marte', 'Jupiter']\n",
            "['Tierra', 'Saturno', 'Planeta X', 'Neptuno', 'Mercurio', 'Marte', 'Marte', 'Jupiter']\n"
          ],
          "name": "stdout"
        }
      ]
    },
    {
      "cell_type": "code",
      "metadata": {
        "id": "T2EhT1tdpKYI",
        "colab_type": "code",
        "colab": {}
      },
      "source": [
        ""
      ],
      "execution_count": null,
      "outputs": []
    },
    {
      "cell_type": "code",
      "metadata": {
        "id": "Xw3moeC_KSQ4",
        "colab_type": "code",
        "colab": {}
      },
      "source": [
        ""
      ],
      "execution_count": null,
      "outputs": []
    },
    {
      "cell_type": "code",
      "metadata": {
        "id": "JqMlViaDKYUV",
        "colab_type": "code",
        "colab": {}
      },
      "source": [
        ""
      ],
      "execution_count": null,
      "outputs": []
    }
  ]
}