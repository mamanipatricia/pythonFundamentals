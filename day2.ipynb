{
  "nbformat": 4,
  "nbformat_minor": 0,
  "metadata": {
    "colab": {
      "name": "day2.ipynb",
      "provenance": [],
      "collapsed_sections": [],
      "include_colab_link": true
    },
    "kernelspec": {
      "name": "python3",
      "display_name": "Python 3"
    }
  },
  "cells": [
    {
      "cell_type": "markdown",
      "metadata": {
        "id": "view-in-github",
        "colab_type": "text"
      },
      "source": [
        "<a href=\"https://colab.research.google.com/github/mamanipatricia/pythonFundamentals/blob/master/day2.ipynb\" target=\"_parent\"><img src=\"https://colab.research.google.com/assets/colab-badge.svg\" alt=\"Open In Colab\"/></a>"
      ]
    },
    {
      "cell_type": "markdown",
      "metadata": {
        "id": "pENm0qO9kMdy",
        "colab_type": "text"
      },
      "source": [
        "## PEP 8\n",
        "\n",
        "PEP 8 existe para mejorar la legibilidad del código Python.\n",
        "\n",
        "---\n",
        "### Variables\n",
        "Definir en *minusculas*, separar con guiones bajos (`_`) para mayor legibilidad.\n",
        "\n",
        "```python\n",
        "age =  25\n",
        "name = \"John\"\n",
        "last_name = \"Doe\"\n",
        "```\n",
        "### Funciones\n",
        "Definir en *minusculas*, separar con guiones bajos (`_`) para mayor legibilidad.\n",
        "\n",
        "```python\n",
        "def multiply(a, b):\n",
        "  ...\n",
        "\n",
        "def get_users():\n",
        "  ...\n",
        "\n",
        "def set_active_user():\n",
        "  ...\n",
        "```\n",
        "### Constante\n",
        "Definir en *mayusculas*, separar con guiones bajos (`_`) para mayor legibilidad.\n",
        "\n",
        "```python\n",
        "PI = 3.14\n",
        "GRAVITY = 9.82\n",
        "```\n",
        "\n",
        "NOTA:\n",
        "\n",
        "- No usar simbolos especiales como: `!`, `@`, `#`, `$`, `%` ...\n",
        "- No definir una variable con un digito al inicio: `1user`, `1_user` ...\n",
        "\n",
        "---\n",
        "\n",
        "\n",
        "\n",
        "https://www.datacamp.com/community/tutorials/pep8-tutorial-python-code\n",
        "\n",
        "https://realpython.com/python-pep8/"
      ]
    },
    {
      "cell_type": "markdown",
      "metadata": {
        "id": "Yxafc8ggndKX",
        "colab_type": "text"
      },
      "source": [
        ""
      ]
    },
    {
      "cell_type": "code",
      "metadata": {
        "id": "C4q0pseWncFQ",
        "colab_type": "code",
        "colab": {}
      },
      "source": [
        ""
      ],
      "execution_count": null,
      "outputs": []
    },
    {
      "cell_type": "code",
      "metadata": {
        "id": "mx3s49IIncmn",
        "colab_type": "code",
        "colab": {}
      },
      "source": [
        ""
      ],
      "execution_count": null,
      "outputs": []
    },
    {
      "cell_type": "markdown",
      "metadata": {
        "id": "vPBWr8LukRgn",
        "colab_type": "text"
      },
      "source": [
        "## Funciones y Excepciones"
      ]
    },
    {
      "cell_type": "code",
      "metadata": {
        "id": "egdBp5BikaRa",
        "colab_type": "code",
        "colab": {}
      },
      "source": [
        "# que es una funcion\n",
        "# como definir una funcion\n",
        "# partes de una funcion\n",
        "# para que sirve una funcion"
      ],
      "execution_count": null,
      "outputs": []
    },
    {
      "cell_type": "code",
      "metadata": {
        "id": "IZdALstx2c9w",
        "colab_type": "code",
        "colab": {}
      },
      "source": [
        ""
      ],
      "execution_count": null,
      "outputs": []
    },
    {
      "cell_type": "code",
      "metadata": {
        "id": "AjMyosBh2dA3",
        "colab_type": "code",
        "colab": {}
      },
      "source": [
        "# args"
      ],
      "execution_count": 1,
      "outputs": []
    },
    {
      "cell_type": "code",
      "metadata": {
        "id": "ys-HlNxMAO_S",
        "colab_type": "code",
        "colab": {}
      },
      "source": [
        ""
      ],
      "execution_count": null,
      "outputs": []
    },
    {
      "cell_type": "markdown",
      "metadata": {
        "id": "bMFQFi35AQAH",
        "colab_type": "text"
      },
      "source": [
        "### Mas de PEP8 y recomendaciones\n",
        "\n",
        "### Funciones\n",
        "```python\n",
        "# No recomendado\n",
        "def db(x):\n",
        "    return x * 2\n",
        "```\n",
        "```python\n",
        "# Recomendado\n",
        "def multiply_by_two(x):\n",
        "    return x * 2\n",
        "```\n",
        "- **Siempre tratar de usar los nombres más concisos pero descriptivos posibles.**\n",
        "\n",
        "### Líneas en blanco\n",
        "\n",
        "```python\n",
        "def average():\n",
        "    ...\n",
        "\n",
        "def get_total():\n",
        "  ...\n",
        "\n",
        "```\n",
        "### Longitud máxima de línea y ruptura de línea\n",
        "Limitarse a 79 caracteres en las lineas. \n",
        "```python\n",
        "def function(arg_one, arg_two,\n",
        "             arg_three, arg_four):\n",
        "    return arg_one\n",
        "```\n",
        "Salto de línea o ruptura ante un operador binario:\n",
        "\n",
        "```python\n",
        "total = (first_variable\n",
        "         + second_variable\n",
        "         - third_variable)\n",
        "```\n",
        "### Sangría\n",
        "Usar 4 espacios consecutivos para indicar sangría o presionar la tecla `tab` o tabulacion.\n",
        "```python\n",
        "x = 2\n",
        "if x > 6:\n",
        "    print('x es mayor que 6')\n",
        "```\n",
        "\n",
        "### Declaraciones que abarcan varias líneas\n",
        "Ejemplo: Código anidado dentro de la instrucción\n",
        "\n",
        "```python\n",
        "if (x > 3 and\n",
        "    x < 10):\n",
        "    print(x)\n",
        "```\n",
        "PEP 8 proporciona dos alternativas\n",
        "\n",
        "1. Agregar un comentario después de la condición final.\n",
        "```python\n",
        "if (x > 3 and\n",
        "    x < 10):\n",
        "    # Both conditions satisfied\n",
        "    print(x)\n",
        "```\n",
        "\n",
        "2. Agregar sangría adicional en la continuación de línea.\n",
        "```python\n",
        "x = 5\n",
        "if (x > 3 and\n",
        "        x < 10):\n",
        "    print(x)\n",
        "```\n",
        "\n",
        "### Dónde colocar la llave de cierre?\n",
        "\n",
        "1. Alinear la llave de cierre con el primer carácter.\n",
        "\n",
        "```python\n",
        "list_of_numbers = [\n",
        "    1, 2, 3,\n",
        "    4, 5, 6,\n",
        "    7, 8, 9\n",
        "    ]\n",
        "```\n",
        "2. Alinear la llave de cierre con el primer carácter de la línea que comienza la construcción.\n",
        "\n",
        "```python\n",
        "list_of_numbers = [\n",
        "    1, 2, 3,\n",
        "    4, 5, 6,\n",
        "    7, 8, 9\n",
        "]\n",
        "```\n",
        "\n",
        "### Comentarios\n",
        "Debe usar los comentarios para documentar el código y entenderlo facilmente.\n",
        "\n",
        "- Comentarios en bloques `Block Comments`\n",
        "\n",
        "```python\n",
        "for i in range(0, 10):\n",
        "    # Recorre 10 veces e imprime el valor de i seguido por una nueva linea\n",
        "    print(i, '\\n')\n",
        "```\n",
        "\n",
        "- Comentarios en línea `Inline Comments`\n",
        "\n",
        "```python\n",
        "x = 5  # Este es un inline comment\n",
        "```\n",
        "- Cadenas de documentación `Documentation Strings - docstring`\n",
        "\n",
        "son cadenas entre ( `\"\"\"` ) o  ( `'''` ) que aparecen en la primera línea de cualquier función, clase, método o módulo.\n",
        "\n",
        "```python\n",
        "def my_function(arg_1, arg_2, ...):\n",
        "    \"\"\"Usar la formula de v = d/t\"\"\"\n",
        "    ...\n",
        "```\n",
        "\n",
        "### Espacio en blanco en expresiones y declaraciones\n",
        "Si no hay suficiente espacio en blanco es dificil de leer, ya que todo está agrupado. \n",
        "\n",
        "```python\n",
        "if x>5 and x%2==0:\n",
        "    print('x es mayor que 5 y divisible por 2!')\n",
        "```\n",
        "- Usar la misma cantidad de espacio en blanco a cada lado del operador.\n",
        "- Se debe rodear la mayoría de los operadores con espacios en blanco\n",
        "\n",
        "### Cuándo evitar agregar espacios en blanco\n",
        "\n",
        "-  Espacios en blanco finales\n",
        "\n",
        "```python\n",
        "# Recomendado\n",
        "my_list = [1, 2, 3]\n",
        "\n",
        "# No recomendado\n",
        "my_list = [ 1, 2, 3, ]\n",
        "```\n",
        "- Antes de una coma, punto y coma o dos puntos\n",
        "\n",
        "```python\n",
        "x = 5\n",
        "y = 6\n",
        "# Recomendado\n",
        "print(x, y)\n",
        "\n",
        "# No recomendado\n",
        "print(x , y)\n",
        "```\n",
        "- Alinear operadores de asignación\n",
        "\n",
        "```python\n",
        "# Recomendado\n",
        "var1 = 5\n",
        "var2 = 6\n",
        "some_long_var = 7\n",
        "\n",
        "# No recomendado\n",
        "var1          = 5\n",
        "var2          = 6\n",
        "some_long_var = 7\n",
        "```\n",
        "\n",
        "### No comparar valores booleanos con True o False utilizando el operador de equivalencia `==`\n",
        "\n",
        "```python\n",
        "# No recomendado\n",
        "my_bool = 6 > 5\n",
        "if my_bool == True:\n",
        "    return '6 es mayor que 5'\n",
        "\n",
        "# Recomendado\n",
        "if my_bool:\n",
        "    return '6 es mayor que 5'\n",
        "```\n",
        "\n",
        "### Verificar si una lista está vacía\n",
        "\n",
        "```python\n",
        "# No recomendado\n",
        "my_list = []\n",
        "if not len(my_list):\n",
        "    print('La lista esta vacia!')\n",
        "\n",
        "# Recomendado\n",
        "my_list = []\n",
        "if not my_list:\n",
        "    print('La lista esta vacia!')\n",
        "```\n",
        "\n",
        "### Verificar si una variable tiene un valor definido\n",
        "\n",
        "```python\n",
        "# No recomendado\n",
        "if not x is None:\n",
        "    return 'x existe!'\n",
        "\n",
        "# Recomendado\n",
        "if x is not None:\n",
        "    return 'x existe!'\n",
        "```\n",
        "\n"
      ]
    },
    {
      "cell_type": "code",
      "metadata": {
        "id": "HoNchDwbQNyk",
        "colab_type": "code",
        "colab": {}
      },
      "source": [
        ""
      ],
      "execution_count": null,
      "outputs": []
    }
  ]
}